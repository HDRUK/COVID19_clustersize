{
 "cells": [
  {
   "cell_type": "markdown",
   "metadata": {},
   "source": [
    "# Overdispersion estimation from the cluster size distributions outside China\n",
    "### Akira Endo\n",
    "## Background\n",
    "A novel coronavirus disease (COVID-19) outbreak, which is considered to have been originated from the wildlife market in Wuhan, China, is now affecting a number of countries worldwide. Substantial amount of human-to-human transmisisons are being observed; the basic reproduction number $R_0$ (the average number of secondary transmissions caused by a single primary case) has been estimated around 2-3 ([Zhao et al.](https://doi.org/10.1016/j.ijid.2020.01.050)). More than 30 countries have observed confirmed cases of COVID-19. A few countries have already shifted from the importation phase to the local transmission phase, with a substantial number of locally acquired cases (including those whose epidemiological link is untraceable). On the other hand, ther are countries where a number of imported cases were ascertained but not as many secondary cases as one might expect from the $R_0$ above one.\n",
    "\n",
    "This suggests that not all symptomatic cases cause a secondary transmission, which was also suggested in the past coronavirus outbreaks (SARS/MERS). Such high variation in the distribution of the number of secondary transmissions (offspring distribution), often characterised by the overdispersion parameter $k$ of the negative binomial distribution, is critical information in the epidemic control strategy. High overdispersion in the offspring distribution suggests that most cases do not contribute to the expansion of the epidemic, thereby highlighting the importance of containment efforts to prevent superspreading events from happening.\n",
    "\n",
    "The overdispersion parameter $k$ for the current COVID-19 outbreak has been studied using international case counts ([Grantz et al. (web page)](https://hopkinsidd.github.io/nCoV-Sandbox/DispersionExploration.html)), suggesting that $k$ might be below 1 (i.e. overdispersed) for the range $R_0>1$. However, their estimates are likely underestimated because they assumed that the current number of cases are the final size of the clusters; in reality, the observed clusters of cases are still growing in certain countries. Here, we show alternative approaches to estimating $k$ while accounting for possible future growth of clusters in some countries."
   ]
  },
  {
   "cell_type": "markdown",
   "metadata": {},
   "source": [
    "## Method\n",
    "Assume that the offspring distribution for COVID-19 cases an i.i.d. negative-binomial distribution. The probability mass function for the final cluster size resulting from $s$ initial cases is given as\n",
    "$$\n",
    "c(x;s)=P(X=x;s)=\\frac{ks}{kx+x-s}\\binom{kx+x-s}{x-s}\\frac{\\left(\\frac{R_0} k\\right)^{x-s}}{\\left(1+\\frac{R_0} k\\right)^{kx+x-s}}.\n",
    "$$\n",
    "\n",
    "However, if the observed case counts are that of an ongoing outbreak in a country, this likelihood does not correspond to the actual interpretation of the observed data because the current cluster size might grow in the future. To address this issue, we propose two different approaches as the adjusted likelihood.\n",
    "\n",
    "As we are unsure how large the final cluster sizes for the countries with ongoing transmission, the current number of cases in those countries provide only limited information on the final cluster size. We simplified the likelihood corresponding those countries with ongoing outbreak by only using the condition that the final cluster size of such a country has to be larger than the currently observed number of cases. The corresponding likelihood function is\n",
    "$$\n",
    "c_\\mathrm{o}(x;s)=P(X\\geq x;s)=1-\\sum_{m=0}^{x}c(m;s)+c(x;s)\n",
    "$$\n",
    "\n",
    "### Defining countries with ongoing outbreak and total likelihood\n",
    "We assumed that the growth of a cluster in a country has been ceased if 7 days are passed since the latest reported cases (ceased countries: $A$). We applied the above likelihood to those ceased countries.\n",
    "\n",
    "The total likelihood is\n",
    "$$\n",
    "L(R_0,k)=\\prod_{i\\in A}P(X=x_i;s_i)\\prod_{i\\in B}P(X\\geq x_i;s_i)\n",
    "$$"
   ]
  },
  {
   "cell_type": "markdown",
   "metadata": {},
   "source": [
    "### Data source\n",
    "We extracted the number of imported/local cases in the affected countries from the [WHO situation report 39](https://www.who.int/docs/default-source/coronaviruse/situation-reports/20200227-sitrep-38-covid-19.pdf) published on 27 February 2020, which is the latest report of the number of imported/local cases in each country (from the situation report 40, WHO no longer reports the number of cases stratified by the site of infection). We defined imported (local) cases as the cases whose likely site of infection is outside (inside) of the reporting country. Those whose site of infection under investigation are excluded from the analysis.\n",
    "\n",
    "To distinguish between countries with and without an ongoing outbreak, we extracted daily case counts from an [online resource (COVID2019.app)](https://docs.google.com/spreadsheets/d/1Z7VQ5xlf3BaTx_LBBblsW4hLoGYWnZyog3jqsS9Dbgc) and determined the dates of the latest case confirmation for each country (as of 27 February)."
   ]
  },
  {
   "cell_type": "code",
   "execution_count": 1,
   "metadata": {},
   "outputs": [],
   "source": [
    "library(repr)\n",
    "options(repr.plot.width=6, repr.plot.height=5)\n",
    "currdate=as.Date(\"2020-2-27\")\n",
    "# buffer period: we assume the growth of a cluster is ceased when this period has been passed since the latest case report\n",
    "buffer=7"
   ]
  },
  {
   "cell_type": "code",
   "execution_count": 2,
   "metadata": {},
   "outputs": [
    {
     "data": {
      "text/html": [
       "<table>\n",
       "<caption>A data.frame: 46 × 7</caption>\n",
       "<thead>\n",
       "\t<tr><th></th><th scope=col>Total</th><th scope=col>Imported</th><th scope=col>Local</th><th scope=col>Unknown</th><th scope=col>Death</th><th scope=col>latestdate</th><th scope=col>ongoingbranches</th></tr>\n",
       "\t<tr><th></th><th scope=col>&lt;int&gt;</th><th scope=col>&lt;dbl&gt;</th><th scope=col>&lt;dbl&gt;</th><th scope=col>&lt;int&gt;</th><th scope=col>&lt;int&gt;</th><th scope=col>&lt;date&gt;</th><th scope=col>&lt;dbl&gt;</th></tr>\n",
       "</thead>\n",
       "<tbody>\n",
       "\t<tr><th scope=row>South Korea</th><td>1766</td><td>17</td><td>605</td><td>1144</td><td>13</td><td>2020-02-27</td><td>1715</td></tr>\n",
       "\t<tr><th scope=row>Japan</th><td> 186</td><td>39</td><td>129</td><td>  18</td><td> 3</td><td>2020-02-27</td><td> 112</td></tr>\n",
       "\t<tr><th scope=row>Singapore</th><td>  93</td><td>24</td><td> 69</td><td>   0</td><td> 0</td><td>2020-02-27</td><td>  12</td></tr>\n",
       "\t<tr><th scope=row>Australia</th><td>  23</td><td>20</td><td>  3</td><td>   0</td><td> 0</td><td>2020-02-26</td><td>   8</td></tr>\n",
       "\t<tr><th scope=row>Malaysia</th><td>  22</td><td>20</td><td>  2</td><td>   0</td><td> 0</td><td>2020-02-27</td><td>   1</td></tr>\n",
       "\t<tr><th scope=row>Vietnam</th><td>  16</td><td> 8</td><td>  8</td><td>   0</td><td> 0</td><td>2020-02-13</td><td>   0</td></tr>\n",
       "\t<tr><th scope=row>Philippines</th><td>   3</td><td> 3</td><td>  0</td><td>   0</td><td> 1</td><td>2020-02-05</td><td>   0</td></tr>\n",
       "\t<tr><th scope=row>Cambodia</th><td>   1</td><td> 1</td><td>  0</td><td>   0</td><td> 0</td><td>2020-01-30</td><td>   0</td></tr>\n",
       "\t<tr><th scope=row>Thailand</th><td>  40</td><td>23</td><td>  7</td><td>  10</td><td> 0</td><td>2020-02-26</td><td>   5</td></tr>\n",
       "\t<tr><th scope=row>India</th><td>   3</td><td> 3</td><td>  0</td><td>   0</td><td> 0</td><td>2020-02-03</td><td>   0</td></tr>\n",
       "\t<tr><th scope=row>Nepal</th><td>   1</td><td> 1</td><td>  0</td><td>   0</td><td> 0</td><td>2020-01-24</td><td>   0</td></tr>\n",
       "\t<tr><th scope=row>Sri Lanka</th><td>   1</td><td> 1</td><td>  0</td><td>   0</td><td> 0</td><td>2020-01-27</td><td>   0</td></tr>\n",
       "\t<tr><th scope=row>USA</th><td>  59</td><td>56</td><td>  2</td><td>   1</td><td> 0</td><td>2020-02-26</td><td>  45</td></tr>\n",
       "\t<tr><th scope=row>Canada</th><td>  11</td><td> 9</td><td>  1</td><td>   1</td><td> 0</td><td>2020-02-27</td><td>   6</td></tr>\n",
       "\t<tr><th scope=row>Brazil</th><td>   1</td><td> 1</td><td>  0</td><td>   0</td><td> 0</td><td>2020-02-26</td><td>   1</td></tr>\n",
       "\t<tr><th scope=row>Italy</th><td> 400</td><td> 3</td><td>121</td><td> 276</td><td>12</td><td>2020-02-27</td><td> 647</td></tr>\n",
       "\t<tr><th scope=row>Germany</th><td>  21</td><td> 3</td><td> 14</td><td>   4</td><td> 0</td><td>2020-02-27</td><td>  35</td></tr>\n",
       "\t<tr><th scope=row>France</th><td>  18</td><td> 8</td><td>  7</td><td>   3</td><td> 2</td><td>2020-02-27</td><td>  26</td></tr>\n",
       "\t<tr><th scope=row>UK</th><td>  13</td><td>12</td><td>  1</td><td>   0</td><td> 0</td><td>2020-02-27</td><td>   7</td></tr>\n",
       "\t<tr><th scope=row>Spain</th><td>  12</td><td>10</td><td>  1</td><td>   1</td><td> 0</td><td>2020-02-27</td><td>  25</td></tr>\n",
       "\t<tr><th scope=row>Croatia</th><td>   3</td><td> 2</td><td>  1</td><td>   0</td><td> 0</td><td>2020-02-26</td><td>   3</td></tr>\n",
       "\t<tr><th scope=row>Austria</th><td>   2</td><td> 2</td><td>  0</td><td>   0</td><td> 0</td><td>2020-02-27</td><td>   5</td></tr>\n",
       "\t<tr><th scope=row>Finland</th><td>   2</td><td> 2</td><td>  0</td><td>   0</td><td> 0</td><td>2020-02-26</td><td>   1</td></tr>\n",
       "\t<tr><th scope=row>Israel</th><td>   2</td><td> 2</td><td>  0</td><td>   0</td><td> 0</td><td>2020-02-27</td><td>   3</td></tr>\n",
       "\t<tr><th scope=row>Russia</th><td>   2</td><td> 2</td><td>  0</td><td>   0</td><td> 0</td><td>2020-01-31</td><td>   0</td></tr>\n",
       "\t<tr><th scope=row>Sweden</th><td>   2</td><td> 2</td><td>  0</td><td>   0</td><td> 0</td><td>2020-02-27</td><td>   6</td></tr>\n",
       "\t<tr><th scope=row>Belgium</th><td>   1</td><td> 1</td><td>  0</td><td>   0</td><td> 0</td><td>2020-02-04</td><td>   0</td></tr>\n",
       "\t<tr><th scope=row>Denmark</th><td>   1</td><td> 1</td><td>  0</td><td>   0</td><td> 0</td><td>2020-02-27</td><td>   1</td></tr>\n",
       "\t<tr><th scope=row>Estonia</th><td>   1</td><td> 0</td><td>  0</td><td>   1</td><td> 0</td><td>2020-02-27</td><td>   1</td></tr>\n",
       "\t<tr><th scope=row>Georgia</th><td>   1</td><td> 1</td><td>  0</td><td>   0</td><td> 0</td><td>2020-02-26</td><td>   1</td></tr>\n",
       "\t<tr><th scope=row>Greece</th><td>   1</td><td> 1</td><td>  0</td><td>   0</td><td> 0</td><td>2020-02-27</td><td>   3</td></tr>\n",
       "\t<tr><th scope=row>North Macedonia</th><td>   1</td><td> 1</td><td>  0</td><td>   0</td><td> 0</td><td>2020-02-26</td><td>   1</td></tr>\n",
       "\t<tr><th scope=row>Norway</th><td>   1</td><td> 1</td><td>  0</td><td>   0</td><td> 0</td><td>2020-02-27</td><td>   4</td></tr>\n",
       "\t<tr><th scope=row>Romania</th><td>   1</td><td> 1</td><td>  0</td><td>   0</td><td> 0</td><td>2020-02-26</td><td>   1</td></tr>\n",
       "\t<tr><th scope=row>Switzerland</th><td>   1</td><td> 1</td><td>  0</td><td>   0</td><td> 0</td><td>2020-02-27</td><td>   8</td></tr>\n",
       "\t<tr><th scope=row>Iran</th><td> 141</td><td> 1</td><td> 27</td><td> 113</td><td>22</td><td>2020-02-27</td><td> 243</td></tr>\n",
       "\t<tr><th scope=row>Kuwait</th><td>  43</td><td>43</td><td>  0</td><td>   0</td><td> 0</td><td>2020-02-27</td><td>  43</td></tr>\n",
       "\t<tr><th scope=row>Bahrain</th><td>  33</td><td>33</td><td>  0</td><td>   0</td><td> 0</td><td>2020-02-26</td><td>  33</td></tr>\n",
       "\t<tr><th scope=row>UAE</th><td>  13</td><td> 8</td><td>  5</td><td>   0</td><td> 0</td><td>2020-02-27</td><td>  10</td></tr>\n",
       "\t<tr><th scope=row>Iraq</th><td>   6</td><td> 6</td><td>  0</td><td>   0</td><td> 0</td><td>2020-02-27</td><td>   7</td></tr>\n",
       "\t<tr><th scope=row>Oman</th><td>   4</td><td> 4</td><td>  0</td><td>   0</td><td> 0</td><td>2020-02-27</td><td>   6</td></tr>\n",
       "\t<tr><th scope=row>Lebanon</th><td>   1</td><td> 1</td><td>  0</td><td>   0</td><td> 0</td><td>2020-02-27</td><td>   3</td></tr>\n",
       "\t<tr><th scope=row>Pakistan</th><td>   2</td><td> 1</td><td>  0</td><td>   1</td><td> 0</td><td>2020-02-26</td><td>   2</td></tr>\n",
       "\t<tr><th scope=row>Afghanistan</th><td>   1</td><td> 1</td><td>  0</td><td>   0</td><td> 0</td><td>2020-02-24</td><td>   1</td></tr>\n",
       "\t<tr><th scope=row>Egypt</th><td>   1</td><td> 1</td><td>  0</td><td>   0</td><td> 0</td><td>2020-02-14</td><td>   0</td></tr>\n",
       "\t<tr><th scope=row>Algeria</th><td>   1</td><td> 1</td><td>  0</td><td>   0</td><td> 0</td><td>2020-02-25</td><td>   1</td></tr>\n",
       "</tbody>\n",
       "</table>\n"
      ],
      "text/latex": [
       "A data.frame: 46 × 7\n",
       "\\begin{tabular}{r|lllllll}\n",
       "  & Total & Imported & Local & Unknown & Death & latestdate & ongoingbranches\\\\\n",
       "  & <int> & <dbl> & <dbl> & <int> & <int> & <date> & <dbl>\\\\\n",
       "\\hline\n",
       "\tSouth Korea & 1766 & 17 & 605 & 1144 & 13 & 2020-02-27 & 1715\\\\\n",
       "\tJapan &  186 & 39 & 129 &   18 &  3 & 2020-02-27 &  112\\\\\n",
       "\tSingapore &   93 & 24 &  69 &    0 &  0 & 2020-02-27 &   12\\\\\n",
       "\tAustralia &   23 & 20 &   3 &    0 &  0 & 2020-02-26 &    8\\\\\n",
       "\tMalaysia &   22 & 20 &   2 &    0 &  0 & 2020-02-27 &    1\\\\\n",
       "\tVietnam &   16 &  8 &   8 &    0 &  0 & 2020-02-13 &    0\\\\\n",
       "\tPhilippines &    3 &  3 &   0 &    0 &  1 & 2020-02-05 &    0\\\\\n",
       "\tCambodia &    1 &  1 &   0 &    0 &  0 & 2020-01-30 &    0\\\\\n",
       "\tThailand &   40 & 23 &   7 &   10 &  0 & 2020-02-26 &    5\\\\\n",
       "\tIndia &    3 &  3 &   0 &    0 &  0 & 2020-02-03 &    0\\\\\n",
       "\tNepal &    1 &  1 &   0 &    0 &  0 & 2020-01-24 &    0\\\\\n",
       "\tSri Lanka &    1 &  1 &   0 &    0 &  0 & 2020-01-27 &    0\\\\\n",
       "\tUSA &   59 & 56 &   2 &    1 &  0 & 2020-02-26 &   45\\\\\n",
       "\tCanada &   11 &  9 &   1 &    1 &  0 & 2020-02-27 &    6\\\\\n",
       "\tBrazil &    1 &  1 &   0 &    0 &  0 & 2020-02-26 &    1\\\\\n",
       "\tItaly &  400 &  3 & 121 &  276 & 12 & 2020-02-27 &  647\\\\\n",
       "\tGermany &   21 &  3 &  14 &    4 &  0 & 2020-02-27 &   35\\\\\n",
       "\tFrance &   18 &  8 &   7 &    3 &  2 & 2020-02-27 &   26\\\\\n",
       "\tUK &   13 & 12 &   1 &    0 &  0 & 2020-02-27 &    7\\\\\n",
       "\tSpain &   12 & 10 &   1 &    1 &  0 & 2020-02-27 &   25\\\\\n",
       "\tCroatia &    3 &  2 &   1 &    0 &  0 & 2020-02-26 &    3\\\\\n",
       "\tAustria &    2 &  2 &   0 &    0 &  0 & 2020-02-27 &    5\\\\\n",
       "\tFinland &    2 &  2 &   0 &    0 &  0 & 2020-02-26 &    1\\\\\n",
       "\tIsrael &    2 &  2 &   0 &    0 &  0 & 2020-02-27 &    3\\\\\n",
       "\tRussia &    2 &  2 &   0 &    0 &  0 & 2020-01-31 &    0\\\\\n",
       "\tSweden &    2 &  2 &   0 &    0 &  0 & 2020-02-27 &    6\\\\\n",
       "\tBelgium &    1 &  1 &   0 &    0 &  0 & 2020-02-04 &    0\\\\\n",
       "\tDenmark &    1 &  1 &   0 &    0 &  0 & 2020-02-27 &    1\\\\\n",
       "\tEstonia &    1 &  0 &   0 &    1 &  0 & 2020-02-27 &    1\\\\\n",
       "\tGeorgia &    1 &  1 &   0 &    0 &  0 & 2020-02-26 &    1\\\\\n",
       "\tGreece &    1 &  1 &   0 &    0 &  0 & 2020-02-27 &    3\\\\\n",
       "\tNorth Macedonia &    1 &  1 &   0 &    0 &  0 & 2020-02-26 &    1\\\\\n",
       "\tNorway &    1 &  1 &   0 &    0 &  0 & 2020-02-27 &    4\\\\\n",
       "\tRomania &    1 &  1 &   0 &    0 &  0 & 2020-02-26 &    1\\\\\n",
       "\tSwitzerland &    1 &  1 &   0 &    0 &  0 & 2020-02-27 &    8\\\\\n",
       "\tIran &  141 &  1 &  27 &  113 & 22 & 2020-02-27 &  243\\\\\n",
       "\tKuwait &   43 & 43 &   0 &    0 &  0 & 2020-02-27 &   43\\\\\n",
       "\tBahrain &   33 & 33 &   0 &    0 &  0 & 2020-02-26 &   33\\\\\n",
       "\tUAE &   13 &  8 &   5 &    0 &  0 & 2020-02-27 &   10\\\\\n",
       "\tIraq &    6 &  6 &   0 &    0 &  0 & 2020-02-27 &    7\\\\\n",
       "\tOman &    4 &  4 &   0 &    0 &  0 & 2020-02-27 &    6\\\\\n",
       "\tLebanon &    1 &  1 &   0 &    0 &  0 & 2020-02-27 &    3\\\\\n",
       "\tPakistan &    2 &  1 &   0 &    1 &  0 & 2020-02-26 &    2\\\\\n",
       "\tAfghanistan &    1 &  1 &   0 &    0 &  0 & 2020-02-24 &    1\\\\\n",
       "\tEgypt &    1 &  1 &   0 &    0 &  0 & 2020-02-14 &    0\\\\\n",
       "\tAlgeria &    1 &  1 &   0 &    0 &  0 & 2020-02-25 &    1\\\\\n",
       "\\end{tabular}\n"
      ],
      "text/markdown": [
       "\n",
       "A data.frame: 46 × 7\n",
       "\n",
       "| <!--/--> | Total &lt;int&gt; | Imported &lt;dbl&gt; | Local &lt;dbl&gt; | Unknown &lt;int&gt; | Death &lt;int&gt; | latestdate &lt;date&gt; | ongoingbranches &lt;dbl&gt; |\n",
       "|---|---|---|---|---|---|---|---|\n",
       "| South Korea | 1766 | 17 | 605 | 1144 | 13 | 2020-02-27 | 1715 |\n",
       "| Japan |  186 | 39 | 129 |   18 |  3 | 2020-02-27 |  112 |\n",
       "| Singapore |   93 | 24 |  69 |    0 |  0 | 2020-02-27 |   12 |\n",
       "| Australia |   23 | 20 |   3 |    0 |  0 | 2020-02-26 |    8 |\n",
       "| Malaysia |   22 | 20 |   2 |    0 |  0 | 2020-02-27 |    1 |\n",
       "| Vietnam |   16 |  8 |   8 |    0 |  0 | 2020-02-13 |    0 |\n",
       "| Philippines |    3 |  3 |   0 |    0 |  1 | 2020-02-05 |    0 |\n",
       "| Cambodia |    1 |  1 |   0 |    0 |  0 | 2020-01-30 |    0 |\n",
       "| Thailand |   40 | 23 |   7 |   10 |  0 | 2020-02-26 |    5 |\n",
       "| India |    3 |  3 |   0 |    0 |  0 | 2020-02-03 |    0 |\n",
       "| Nepal |    1 |  1 |   0 |    0 |  0 | 2020-01-24 |    0 |\n",
       "| Sri Lanka |    1 |  1 |   0 |    0 |  0 | 2020-01-27 |    0 |\n",
       "| USA |   59 | 56 |   2 |    1 |  0 | 2020-02-26 |   45 |\n",
       "| Canada |   11 |  9 |   1 |    1 |  0 | 2020-02-27 |    6 |\n",
       "| Brazil |    1 |  1 |   0 |    0 |  0 | 2020-02-26 |    1 |\n",
       "| Italy |  400 |  3 | 121 |  276 | 12 | 2020-02-27 |  647 |\n",
       "| Germany |   21 |  3 |  14 |    4 |  0 | 2020-02-27 |   35 |\n",
       "| France |   18 |  8 |   7 |    3 |  2 | 2020-02-27 |   26 |\n",
       "| UK |   13 | 12 |   1 |    0 |  0 | 2020-02-27 |    7 |\n",
       "| Spain |   12 | 10 |   1 |    1 |  0 | 2020-02-27 |   25 |\n",
       "| Croatia |    3 |  2 |   1 |    0 |  0 | 2020-02-26 |    3 |\n",
       "| Austria |    2 |  2 |   0 |    0 |  0 | 2020-02-27 |    5 |\n",
       "| Finland |    2 |  2 |   0 |    0 |  0 | 2020-02-26 |    1 |\n",
       "| Israel |    2 |  2 |   0 |    0 |  0 | 2020-02-27 |    3 |\n",
       "| Russia |    2 |  2 |   0 |    0 |  0 | 2020-01-31 |    0 |\n",
       "| Sweden |    2 |  2 |   0 |    0 |  0 | 2020-02-27 |    6 |\n",
       "| Belgium |    1 |  1 |   0 |    0 |  0 | 2020-02-04 |    0 |\n",
       "| Denmark |    1 |  1 |   0 |    0 |  0 | 2020-02-27 |    1 |\n",
       "| Estonia |    1 |  0 |   0 |    1 |  0 | 2020-02-27 |    1 |\n",
       "| Georgia |    1 |  1 |   0 |    0 |  0 | 2020-02-26 |    1 |\n",
       "| Greece |    1 |  1 |   0 |    0 |  0 | 2020-02-27 |    3 |\n",
       "| North Macedonia |    1 |  1 |   0 |    0 |  0 | 2020-02-26 |    1 |\n",
       "| Norway |    1 |  1 |   0 |    0 |  0 | 2020-02-27 |    4 |\n",
       "| Romania |    1 |  1 |   0 |    0 |  0 | 2020-02-26 |    1 |\n",
       "| Switzerland |    1 |  1 |   0 |    0 |  0 | 2020-02-27 |    8 |\n",
       "| Iran |  141 |  1 |  27 |  113 | 22 | 2020-02-27 |  243 |\n",
       "| Kuwait |   43 | 43 |   0 |    0 |  0 | 2020-02-27 |   43 |\n",
       "| Bahrain |   33 | 33 |   0 |    0 |  0 | 2020-02-26 |   33 |\n",
       "| UAE |   13 |  8 |   5 |    0 |  0 | 2020-02-27 |   10 |\n",
       "| Iraq |    6 |  6 |   0 |    0 |  0 | 2020-02-27 |    7 |\n",
       "| Oman |    4 |  4 |   0 |    0 |  0 | 2020-02-27 |    6 |\n",
       "| Lebanon |    1 |  1 |   0 |    0 |  0 | 2020-02-27 |    3 |\n",
       "| Pakistan |    2 |  1 |   0 |    1 |  0 | 2020-02-26 |    2 |\n",
       "| Afghanistan |    1 |  1 |   0 |    0 |  0 | 2020-02-24 |    1 |\n",
       "| Egypt |    1 |  1 |   0 |    0 |  0 | 2020-02-14 |    0 |\n",
       "| Algeria |    1 |  1 |   0 |    0 |  0 | 2020-02-25 |    1 |\n",
       "\n"
      ],
      "text/plain": [
       "                Total Imported Local Unknown Death latestdate ongoingbranches\n",
       "South Korea     1766  17       605   1144    13    2020-02-27 1715           \n",
       "Japan            186  39       129     18     3    2020-02-27  112           \n",
       "Singapore         93  24        69      0     0    2020-02-27   12           \n",
       "Australia         23  20         3      0     0    2020-02-26    8           \n",
       "Malaysia          22  20         2      0     0    2020-02-27    1           \n",
       "Vietnam           16   8         8      0     0    2020-02-13    0           \n",
       "Philippines        3   3         0      0     1    2020-02-05    0           \n",
       "Cambodia           1   1         0      0     0    2020-01-30    0           \n",
       "Thailand          40  23         7     10     0    2020-02-26    5           \n",
       "India              3   3         0      0     0    2020-02-03    0           \n",
       "Nepal              1   1         0      0     0    2020-01-24    0           \n",
       "Sri Lanka          1   1         0      0     0    2020-01-27    0           \n",
       "USA               59  56         2      1     0    2020-02-26   45           \n",
       "Canada            11   9         1      1     0    2020-02-27    6           \n",
       "Brazil             1   1         0      0     0    2020-02-26    1           \n",
       "Italy            400   3       121    276    12    2020-02-27  647           \n",
       "Germany           21   3        14      4     0    2020-02-27   35           \n",
       "France            18   8         7      3     2    2020-02-27   26           \n",
       "UK                13  12         1      0     0    2020-02-27    7           \n",
       "Spain             12  10         1      1     0    2020-02-27   25           \n",
       "Croatia            3   2         1      0     0    2020-02-26    3           \n",
       "Austria            2   2         0      0     0    2020-02-27    5           \n",
       "Finland            2   2         0      0     0    2020-02-26    1           \n",
       "Israel             2   2         0      0     0    2020-02-27    3           \n",
       "Russia             2   2         0      0     0    2020-01-31    0           \n",
       "Sweden             2   2         0      0     0    2020-02-27    6           \n",
       "Belgium            1   1         0      0     0    2020-02-04    0           \n",
       "Denmark            1   1         0      0     0    2020-02-27    1           \n",
       "Estonia            1   0         0      1     0    2020-02-27    1           \n",
       "Georgia            1   1         0      0     0    2020-02-26    1           \n",
       "Greece             1   1         0      0     0    2020-02-27    3           \n",
       "North Macedonia    1   1         0      0     0    2020-02-26    1           \n",
       "Norway             1   1         0      0     0    2020-02-27    4           \n",
       "Romania            1   1         0      0     0    2020-02-26    1           \n",
       "Switzerland        1   1         0      0     0    2020-02-27    8           \n",
       "Iran             141   1        27    113    22    2020-02-27  243           \n",
       "Kuwait            43  43         0      0     0    2020-02-27   43           \n",
       "Bahrain           33  33         0      0     0    2020-02-26   33           \n",
       "UAE               13   8         5      0     0    2020-02-27   10           \n",
       "Iraq               6   6         0      0     0    2020-02-27    7           \n",
       "Oman               4   4         0      0     0    2020-02-27    6           \n",
       "Lebanon            1   1         0      0     0    2020-02-27    3           \n",
       "Pakistan           2   1         0      1     0    2020-02-26    2           \n",
       "Afghanistan        1   1         0      0     0    2020-02-24    1           \n",
       "Egypt              1   1         0      0     0    2020-02-14    0           \n",
       "Algeria            1   1         0      0     0    2020-02-25    1           "
      ]
     },
     "metadata": {},
     "output_type": "display_data"
    }
   ],
   "source": [
    "# Data\n",
    "# Imported and local cases outside China\n",
    "# Source (accessed 4/3/2020): https://www.who.int/docs/default-source/coronaviruse/situation-reports/20200227-sitrep-38-covid-19.pdf\n",
    "WHO_data=read.csv(\"../data/bycountries_27Feb2020.csv\")\n",
    "WHO_data[,\"ImportedChina\"]=WHO_data[,\"ImportedChina\"]+WHO_data[,\"ImportedOthers\"]\n",
    "WHO_data=WHO_data[,-4]\n",
    "colnames(WHO_data)[3]=\"Imported\"\n",
    "rownames(WHO_data)=WHO_data[,1]\n",
    "\n",
    "# modify of numbers\n",
    "modifydata<-function(country,from,to,howmany){\n",
    "    WHO_data[country,from]=WHO_data[country,from]-howmany\n",
    "    WHO_data[country,to]=WHO_data[country,to]+howmany\n",
    "    return(WHO_data)\n",
    "}\n",
    "# Isolated local case in Egypt and Iran \n",
    "WHO_data=modifydata(\"Egypt\",\"Local\",\"Imported\",1)\n",
    "WHO_data=modifydata(\"Iran\",\"Local\",\"Imported\",1)\n",
    "\n",
    "# Daily confirmed cases (by date of confirmation)\n",
    "# Source (accessed 18/2/2020): https://docs.google.com/spreadsheets/d/1Z7VQ5xlf3BaTx_LBBblsW4hLoGYWnZyog3jqsS9Dbgc\n",
    "daily_data=read.csv(\"../data/dailycases_international_27Feb2020.csv\")\n",
    "countrynames=daily_data[-(1:3),2]\n",
    "names(countrynames)=as.character(countrynames)\n",
    "counts=suppressWarnings(apply(t(daily_data[-(1:2),-(1:2)]),1:2,as.numeric))\n",
    "dates=as.Date(\"2020-1-13\")+1:nrow(counts)-1\n",
    "dailydata=cbind(dates,as.data.frame(counts))\n",
    "dailydata=dailydata[,-2]\n",
    "rownames(dailydata)=dailydata[,1]\n",
    "colnames(dailydata)=c(\"date\",as.character(countrynames))\n",
    "\n",
    "\n",
    "# get dates of last reported case for each country\n",
    "dateidx=seq(as.Date(\"2020-1-13\"),currdate,by=\"days\")\n",
    "dailydata_tillcurrdate=dailydata[as.character(dateidx),-1]\n",
    "latestdates=as.Date(apply(dailydata_tillcurrdate,2,function(x){\n",
    "    lastreported=tail(which(!(x %in% NA)),1)\n",
    "    if(length(lastreported)==0){NA}\n",
    "    else{as.character(dailydata[lastreported,1])}\n",
    "}))\n",
    "latestdates=data.frame(countrynames,latestdates)\n",
    "rownames(latestdates)=as.character(countrynames)\n",
    "\n",
    "# get the number of cases within the buffer period\n",
    "bufferdays=seq(currdate-buffer,currdate,by=\"days\")\n",
    "ongoingbranches=colSums(dailydata[as.character(bufferdays),-1],na.rm=T)\n",
    "\n",
    "# reorder latestdates and ongoingbranches according to WHO data\n",
    "latestdates_WHO=latestdates[rownames(WHO_data),2]\n",
    "ongoingbranches_WHO=ongoingbranches[rownames(WHO_data)]\n",
    "WHO_data=cbind(WHO_data,latestdate=latestdates_WHO,ongoingbranches=ongoingbranches_WHO)\n",
    "WHO_data[,-1]"
   ]
  },
  {
   "cell_type": "code",
   "execution_count": 3,
   "metadata": {},
   "outputs": [],
   "source": [
    "# label countries with/without cases in the last (buffer) days\n",
    "isextinct=WHO_data$latestdate<currdate-buffer\n",
    "icases=WHO_data$Imported\n",
    "lcases=WHO_data$Local\n",
    "ocases=WHO_data$ongoingbranches"
   ]
  },
  {
   "cell_type": "code",
   "execution_count": 4,
   "metadata": {},
   "outputs": [],
   "source": [
    "# cluster size inference\n",
    "# for extinct clusters\n",
    "llextinct<-function(icases,lcases,R0,k){\n",
    "    if(length(icases)==0)return(0)\n",
    "    tcases=lcases+icases\n",
    "    lls=log(k)+log(icases)-log((k+1)*tcases-icases)+lchoose((k+1)*tcases-icases,tcases-icases)+(tcases-icases)*(log(R0)-log(k))-((k+1)*tcases-icases)*log(1+R0/k)\n",
    "    sum(lls,na.rm=T)\n",
    "}\n",
    "\n",
    "# only use the number as the lower bound of cluster size for ongoing countries\n",
    "lltruncate<-function(icases,lcases,R0,k){\n",
    "    if(length(icases)==0) return(0)\n",
    "    ll=0\n",
    "    for(i in 1:length(icases)){\n",
    "        prob=1\n",
    "        if(icases[i]==0||lcases[i]==0)next\n",
    "        for(x in 0:(lcases[i]-1)){\n",
    "            prob=prob-exp(llextinct(icases[i],x,R0,k))\n",
    "        }\n",
    "        if(!is.nan(prob))ll=ll+log(max(0,prob))\n",
    "    }\n",
    "    return(ll)\n",
    "}\n",
    "\n",
    "lltotal<-function(R0invk,icases,lcases,isextinct){\n",
    "    R0=R0invk[1];k=1/R0invk[2]\n",
    "    llextinct(icases[isextinct],lcases[isextinct],R0,k)+lltruncate(icases[!isextinct],lcases[!isextinct],R0,k)\n",
    "}\n",
    "lltotal_R0<-function(invk,icases,lcases,isextinct,R0){\n",
    "    k=1/invk\n",
    "    llextinct(icases[isextinct],lcases[isextinct],R0,k)+lltruncate(icases[!isextinct],lcases[!isextinct],R0,k)\n",
    "}"
   ]
  },
  {
   "cell_type": "code",
   "execution_count": 5,
   "metadata": {},
   "outputs": [
    {
     "data": {
      "text/html": [
       "TRUE"
      ],
      "text/latex": [
       "TRUE"
      ],
      "text/markdown": [
       "TRUE"
      ],
      "text/plain": [
       "[1] TRUE"
      ]
     },
     "metadata": {},
     "output_type": "display_data"
    },
    {
     "data": {
      "text/html": [
       "TRUE"
      ],
      "text/latex": [
       "TRUE"
      ],
      "text/markdown": [
       "TRUE"
      ],
      "text/plain": [
       "[1] TRUE"
      ]
     },
     "metadata": {},
     "output_type": "display_data"
    }
   ],
   "source": [
    "# Test block\n",
    "R0=runif(100,0,5);k=runif(100,0,5)\n",
    "# llextinct: equals negbinom when x==s\n",
    "all.equal(dnbinom(0,k,mu=R0,log=T),sapply(1:length(R0),function(x){llextinct(1,0,R0[x],k[x])}))\n",
    "# lltruncate: sum up to (almost) 1 when R0<<1\n",
    "R0fix=runif(30)/2;k=runif(30,0,5)\n",
    "lls=sapply(1:length(R0fix),function(x){lltruncate(sample(1:5,1),3e4,R0fix[x],k[x])})\n",
    "all.equal(exp(lls),numeric(length(R0fix)))"
   ]
  },
  {
   "cell_type": "markdown",
   "metadata": {},
   "source": [
    "## Results\n",
    "### Maximum likelihood estimate\n",
    "Holding $R_0$ constant, first we estimated the overdispersion paramter $k$ by maximising the likelihood given above. Substantial overestimation ($k<<1$) was observed regardless of assumed $R_0$."
   ]
  },
  {
   "cell_type": "code",
   "execution_count": 6,
   "metadata": {},
   "outputs": [
    {
     "data": {
      "image/png": "[encoded data removed]",
      "text/plain": [
       "plot without title"
      ]
     },
     "metadata": {},
     "output_type": "display_data"
    }
   ],
   "source": [
    "###### Maximum likelihood estimate\n",
    "estimatek_truncate<-function(R0){\n",
    "    opt=optim(fn=lltotal_R0,par=1,method=\"Brent\",lower=0,upper=500,icases=icases,lcases=lcases,isextinct=isextinct,R0=R0,control=list(fnscale=-1,trace=1))\n",
    "    c(1/opt$par,opt$value)\n",
    "}\n",
    "R0s=seq(0.1,5,0.1)\n",
    "k_est=suppressWarnings(sapply(R0s,estimatek_truncate))\n",
    "plot(x=R0s,y=k_est[1,],ylim=c(0,0.5),type=\"o\",pch=19,xlab=\"reproduction number\",ylab=\"overdispersion parameter k\")\n"
   ]
  },
  {
   "cell_type": "markdown",
   "metadata": {},
   "source": [
    "### Markov-chain Monte Carlo\n",
    "Next, we used the Markov-chain Monte Carlo (MCMC) method to provide 95% credible intervals (CrIs). The reciprocal of $k$ (concentration paramter) was sampled where the prior distribution for the reciprocal was an uninformative uniform on the positive real line. We employed the adaptive hit-and-run Metropolis algorithm and obtained 500 thinned samples from 10,000 MCMC steps (where the first half of the chain was discarded as burn-in). The black line shows the median estimate of $k$ given $R_0$ and the gray shaded area indicates 95% CrIs."
   ]
  },
  {
   "cell_type": "code",
   "execution_count": null,
   "metadata": {},
   "outputs": [],
   "source": [
    "# MCMC\n",
    "library(LaplacesDemon)\n",
    "Data=Data=list(N=13,mon.names=c(\"R0\",\"k\"),parm.names=\"invk\",R0=1,icases=icases,lcases=lcases,ocases=ocases,isextinct=isextinct)\n",
    "Model=function(parm,Data){\n",
    "    invk=interval(parm,0)\n",
    "    ll=lltotal_R0(invk,Data$icases,Data$lcases,Data$isextinct,Data$R0)\n",
    "    return(list(LP=ll,Dev=-2*ll,Monitor=c(Data$R0,1/invk),yhat=NULL,parm=invk))\n",
    "}\n",
    "R0s=1:25/5\n",
    "niter=10000\n",
    "mcmcfits=lapply(R0s,function(R0){\n",
    "    Data$R0=R0\n",
    "    fit=LaplacesDemon(Model=Model,Data=Data,Initial.Values=1,Covar=NULL,Iterations=niter,Status=niter,Thinning=10,Algorithm='HARM',Specs=list(alpha.star=0.23,B=NULL))\n",
    "})\n",
    "k_mcmc=sapply(mcmcfits,function(x){x$Monitor[(niter%/%20):(niter%/%10),2]})\n",
    "ll_mcmc=sapply(mcmcfits,function(x){-x$Deviance[(niter%/%20):(niter%/%10)]/2})          "
   ]
  },
  {
   "cell_type": "code",
   "execution_count": 8,
   "metadata": {},
   "outputs": [
    {
     "data": {
      "image/png": "[encoded data removed]",
      "text/plain": [
       "plot without title"
      ]
     },
     "metadata": {},
     "output_type": "display_data"
    }
   ],
   "source": [
    "# Plot\n",
    "med=apply(k_mcmc,2,median)\n",
    "cri=apply(k_mcmc,2,function(x){quantile(x,c(0.025,0.975))})\n",
    "plot(x=R0s,y=med,xlim=c(0,5),ylim=c(0,1),type=\"l\",xlab=\"R0\",ylab=\"overdispersion\")\n",
    "polygon(x=c(R0s,rev(R0s)),y=c(cri[1,],rev(cri[2,])),lty=0,col=rgb(0,0,0,0.1))"
   ]
  },
  {
   "cell_type": "markdown",
   "metadata": {},
   "source": [
    "### Proportion responsible for 80% of transmissions\n",
    "Following [Grantz et al.](https://hopkinsidd.github.io/nCoV-Sandbox/DispersionExploration.html), we calculated the estimated proportion of infectors responsible for 80% of secondary transmissions caused. Such proportion $p_{80\\%}$ is given as\n",
    "$$\n",
    "1-p_{80\\%}=\\int_0^{X}\\mathrm{NB}\\left(\\lfloor x\\rfloor;k,\\frac{k}{R_0+k}\\right)dx,\n",
    "$$\n",
    "where $X$ satisfies\n",
    "$$\n",
    "1-0.8=\\frac 1{R_0}\\int_0^{X}\\lfloor x\\rfloor\\mathrm{NB}\\left(\\lfloor x\\rfloor;k,\\frac{k}{R_0+k}\\right)dx.\n",
    "$$\n",
    "\n",
    "Note that\n",
    "$$\n",
    "\\frac 1{R_0}\\int_0^{X}\\lfloor x\\rfloor\\mathrm{NB}\\left(\\lfloor x\\rfloor;k,\\frac{k}{R_0+k}\\right)dx=\\int_0^{X-1}\\mathrm{NB}\\left(\\lfloor x\\rfloor;k+1,\\frac{k}{R_0+k}\\right)dx.\n",
    "$$\n",
    "\n",
    "We computed $p_{80\\%}$ for each MCMC sample to yield median and 95% CrIs."
   ]
  },
  {
   "cell_type": "code",
   "execution_count": 9,
   "metadata": {},
   "outputs": [
    {
     "data": {
      "text/html": [
       "TRUE"
      ],
      "text/latex": [
       "TRUE"
      ],
      "text/markdown": [
       "TRUE"
      ],
      "text/plain": [
       "[1] TRUE"
      ]
     },
     "metadata": {},
     "output_type": "display_data"
    }
   ],
   "source": [
    "# Calculate proportion responsible for 80% of total transmissions\n",
    "propresponsible=function(R0,k,prop){\n",
    "    qm1=qnbinom(1-prop,k+1,mu=R0*(k+1)/k)\n",
    "    remq=1-prop-pnbinom(qm1-1,k+1,mu=R0*(k+1)/k)\n",
    "    remx=remq/dnbinom(qm1,k+1,mu=R0*(k+1)/k)\n",
    "    q=qm1+1\n",
    "    1-pnbinom(q-1,k,mu=R0)+dnbinom(q,k,mu=R0)*remx\n",
    "}\n",
    "\n",
    "# test\n",
    "R0=runif(100,0,5);k=runif(100,0,5)\n",
    "testprops=sapply(1:length(R0),function(x)propresponsible(R0[x],k[x],1))\n",
    "all.equal(testprops,1-dnbinom(0,k,mu=R0)) # those generating at least one offspring are responsible for 100% of transmissions"
   ]
  },
  {
   "cell_type": "code",
   "execution_count": 10,
   "metadata": {},
   "outputs": [
    {
     "data": {
      "image/png": "[encoded data removed]",
      "text/plain": [
       "plot without title"
      ]
     },
     "metadata": {},
     "output_type": "display_data"
    }
   ],
   "source": [
    "props=sapply(1:length(R0s),function(R0id)sapply(k_mcmc[,R0id],function(k_)propresponsible(R0s[R0id],k_,0.8)))\n",
    "med=apply(props,2,median)\n",
    "cri=apply(props,2,function(x){quantile(x,c(0.025,0.975))})\n",
    "plot(x=R0s,y=med,xlim=c(0,5),ylim=c(0,1),type=\"l\",xlab=\"R0\",ylab=\"proportion responsible for 80% of secondary transmissions\")\n",
    "polygon(x=c(R0s,rev(R0s)),y=c(cri[1,],rev(cri[2,])),lty=0,col=rgb(0,0,0,0.1))"
   ]
  },
  {
   "cell_type": "markdown",
   "metadata": {},
   "source": [
    "### Joint estimation of $R_{0}$ and $k$\n",
    "We tried to estimate $R_0$ and $k$ simultaneously by MCMC (with a normal prior $\\mathrm{Norm}(\\mu=3,\\sigma=5)$ for $R_0$ to prevent the overshoot of $R_0$). The posterior distribution of $R_0$ did not show notable improvement from the prior, suggesting that our model did not yield much information on $R_0$ from the data."
   ]
  },
  {
   "cell_type": "code",
   "execution_count": null,
   "metadata": {},
   "outputs": [],
   "source": [
    "# Joint estimation\n",
    "Data=list(N=13,mon.names=c(\"R0\",\"k\"),parm.names=c(\"R0\",\"invk\"),icases=icases,lcases=lcases,ocases=ocases,isextinct=isextinct)\n",
    "Model_joint=function(parm,Data){\n",
    "    parm=interval(parm,0)\n",
    "    lp=lltotal(parm,Data$icases,Data$lcases,Data$isextinct)+dnorm(parm[1],3,5,log=T)\n",
    "    return(list(LP=lp,Dev=-2*lp,Monitor=c(parm[1],1/parm[2]),yhat=NULL,parm=parm))\n",
    "}\n",
    "niter=10000\n",
    "fit=LaplacesDemon(Model=Model_joint,Data=Data,Initial.Values=c(1,1),Covar=NULL,Iterations=niter,Status=niter%/%10,Thinning=10,Algorithm='HARM',Specs=list(alpha.star=0.23,B=NULL))"
   ]
  },
  {
   "cell_type": "code",
   "execution_count": 12,
   "metadata": {},
   "outputs": [
    {
     "data": {
      "image/png": "[encoded data removed]",
      "text/plain": [
       "plot without title"
      ]
     },
     "metadata": {},
     "output_type": "display_data"
    }
   ],
   "source": [
    "pairs(fit$Monitor[niter%/%20+1:(niter%/%20),1:2])"
   ]
  },
  {
   "cell_type": "markdown",
   "metadata": {},
   "source": [
    "## Conclusion\n",
    "We estimated overdispersion of the offspring distribution of COVID-19 from the number of imported/local cases in affected countries. The results suggested that the offspring distribution of COVID-19 is highly overdispersed. For the likely range of $R_0>2$, the overdispersion parameter $k$ was estimated to be around 0.1, suggesting that the majority of secondary transmission is caused by a very small fraction of infectors (80% of transmissions caused by ~10% of the total cases). This suggests that the effective reproduction number could be radically reduced by interventions targeting potential superspreading events. From the current dataset and model, we were unable to simultaneously estimate $R_0$ and $k$. More detailed dataset on the epidemiological link between cases could improve the estimation performance."
   ]
  }
 ],
 "metadata": {
  "jupytext": {
   "formats": "ipynb,Rmd"
  },
  "kernelspec": {
   "display_name": "R",
   "language": "R",
   "name": "ir"
  },
  "language_info": {
   "codemirror_mode": "r",
   "file_extension": ".r",
   "mimetype": "text/x-r-source",
   "name": "R",
   "pygments_lexer": "r",
   "version": "3.6.1"
  }
 },
 "nbformat": 4,
 "nbformat_minor": 4
}
